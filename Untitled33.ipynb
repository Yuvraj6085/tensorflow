{
  "nbformat": 4,
  "nbformat_minor": 0,
  "metadata": {
    "colab": {
      "provenance": [],
      "authorship_tag": "ABX9TyP5OnELoLxO6sNol2YDCfGH",
      "include_colab_link": true
    },
    "kernelspec": {
      "name": "python3",
      "display_name": "Python 3"
    },
    "language_info": {
      "name": "python"
    }
  },
  "cells": [
    {
      "cell_type": "markdown",
      "metadata": {
        "id": "view-in-github",
        "colab_type": "text"
      },
      "source": [
        "<a href=\"https://colab.research.google.com/github/Yuvraj6085/tensorflow/blob/main/Untitled33.ipynb\" target=\"_parent\"><img src=\"https://colab.research.google.com/assets/colab-badge.svg\" alt=\"Open In Colab\"/></a>"
      ]
    },
    {
      "cell_type": "code",
      "source": [
        "import tensorflow as tf\n",
        "import numpy as np\n",
        "from tensorflow.keras.models import Sequential\n",
        "from tensorflow.keras.layers import Flatten, Dense"
      ],
      "metadata": {
        "id": "gIeZq9JKsIar"
      },
      "execution_count": 4,
      "outputs": []
    },
    {
      "cell_type": "code",
      "source": [
        "(x_train, y_train), (x_test, y_test) = tf.keras.datasets.mnist.load_data()"
      ],
      "metadata": {
        "colab": {
          "base_uri": "https://localhost:8080/"
        },
        "id": "2op4Kba2APkc",
        "outputId": "abfc34ef-39fd-44c0-8f60-cea5a5bc5437"
      },
      "execution_count": 5,
      "outputs": [
        {
          "output_type": "stream",
          "name": "stdout",
          "text": [
            "Downloading data from https://storage.googleapis.com/tensorflow/tf-keras-datasets/mnist.npz\n",
            "\u001b[1m11490434/11490434\u001b[0m \u001b[32m━━━━━━━━━━━━━━━━━━━━\u001b[0m\u001b[37m\u001b[0m \u001b[1m0s\u001b[0m 0us/step\n"
          ]
        }
      ]
    },
    {
      "cell_type": "code",
      "source": [
        "gray_scale=255\n",
        "x_train=x_train.astype('float32')/gray_scale\n",
        "x_test=x_test.astype('float32')/gray_scale\n",
        "print(\"Feature matrix (x_train):\", x_train.shape)\n",
        "print(\"Target matrix (y_train):\", y_train.shape)\n",
        "print(\"Feature matrix (x_test):\", x_test.shape)\n",
        "print(\"Target matrix (y_test):\", y_test.shape)"
      ],
      "metadata": {
        "colab": {
          "base_uri": "https://localhost:8080/"
        },
        "id": "d5f6yZfNAVUN",
        "outputId": "caf3ad6d-5746-4af3-d84b-a95b43c5e9d7"
      },
      "execution_count": 6,
      "outputs": [
        {
          "output_type": "stream",
          "name": "stdout",
          "text": [
            "Feature matrix (x_train): (60000, 28, 28)\n",
            "Target matrix (y_train): (60000,)\n",
            "Feature matrix (x_test): (10000, 28, 28)\n",
            "Target matrix (y_test): (10000,)\n"
          ]
        }
      ]
    },
    {
      "cell_type": "code",
      "source": [
        "from tensorflow.keras.layers import Input\n",
        "\n",
        "model = Sequential([Input(shape=(28, 28)),\n",
        "                    Flatten(),\n",
        "                    Dense(256, activation='sigmoid'),\n",
        "                    Dense(128, activation='sigmoid'),\n",
        "                    Dense(10, activation='softmax')\n",
        "])"
      ],
      "metadata": {
        "id": "NvxYD2M6AiZr"
      },
      "execution_count": 9,
      "outputs": []
    },
    {
      "cell_type": "code",
      "source": [
        "model.compile(optimizer='adam', loss='sparse_categorical_crossentropy', metrics=['accuracy'])"
      ],
      "metadata": {
        "id": "h8ZvYq6HBQGz"
      },
      "execution_count": 10,
      "outputs": []
    },
    {
      "cell_type": "code",
      "source": [
        "mod=model.fit(x_train, y_train, epochs=10, batch_size=2000, validation_split=0.2)"
      ],
      "metadata": {
        "colab": {
          "base_uri": "https://localhost:8080/"
        },
        "id": "VDgteWzhBfOu",
        "outputId": "2a3a4d64-9b11-40bf-f989-12194fdf2d56"
      },
      "execution_count": 11,
      "outputs": [
        {
          "output_type": "stream",
          "name": "stdout",
          "text": [
            "Epoch 1/10\n",
            "\u001b[1m24/24\u001b[0m \u001b[32m━━━━━━━━━━━━━━━━━━━━\u001b[0m\u001b[37m\u001b[0m \u001b[1m3s\u001b[0m 70ms/step - accuracy: 0.2775 - loss: 2.2392 - val_accuracy: 0.6977 - val_loss: 1.7271\n",
            "Epoch 2/10\n",
            "\u001b[1m24/24\u001b[0m \u001b[32m━━━━━━━━━━━━━━━━━━━━\u001b[0m\u001b[37m\u001b[0m \u001b[1m1s\u001b[0m 60ms/step - accuracy: 0.7063 - loss: 1.5506 - val_accuracy: 0.8158 - val_loss: 1.0322\n",
            "Epoch 3/10\n",
            "\u001b[1m24/24\u001b[0m \u001b[32m━━━━━━━━━━━━━━━━━━━━\u001b[0m\u001b[37m\u001b[0m \u001b[1m1s\u001b[0m 55ms/step - accuracy: 0.8128 - loss: 0.9467 - val_accuracy: 0.8618 - val_loss: 0.6702\n",
            "Epoch 4/10\n",
            "\u001b[1m24/24\u001b[0m \u001b[32m━━━━━━━━━━━━━━━━━━━━\u001b[0m\u001b[37m\u001b[0m \u001b[1m2s\u001b[0m 63ms/step - accuracy: 0.8562 - loss: 0.6484 - val_accuracy: 0.8903 - val_loss: 0.4930\n",
            "Epoch 5/10\n",
            "\u001b[1m24/24\u001b[0m \u001b[32m━━━━━━━━━━━━━━━━━━━━\u001b[0m\u001b[37m\u001b[0m \u001b[1m3s\u001b[0m 63ms/step - accuracy: 0.8826 - loss: 0.4952 - val_accuracy: 0.9006 - val_loss: 0.4019\n",
            "Epoch 6/10\n",
            "\u001b[1m24/24\u001b[0m \u001b[32m━━━━━━━━━━━━━━━━━━━━\u001b[0m\u001b[37m\u001b[0m \u001b[1m1s\u001b[0m 53ms/step - accuracy: 0.8965 - loss: 0.4090 - val_accuracy: 0.9072 - val_loss: 0.3506\n",
            "Epoch 7/10\n",
            "\u001b[1m24/24\u001b[0m \u001b[32m━━━━━━━━━━━━━━━━━━━━\u001b[0m\u001b[37m\u001b[0m \u001b[1m1s\u001b[0m 54ms/step - accuracy: 0.9037 - loss: 0.3614 - val_accuracy: 0.9158 - val_loss: 0.3181\n",
            "Epoch 8/10\n",
            "\u001b[1m24/24\u001b[0m \u001b[32m━━━━━━━━━━━━━━━━━━━━\u001b[0m\u001b[37m\u001b[0m \u001b[1m3s\u001b[0m 54ms/step - accuracy: 0.9104 - loss: 0.3306 - val_accuracy: 0.9196 - val_loss: 0.2936\n",
            "Epoch 9/10\n",
            "\u001b[1m24/24\u001b[0m \u001b[32m━━━━━━━━━━━━━━━━━━━━\u001b[0m\u001b[37m\u001b[0m \u001b[1m1s\u001b[0m 54ms/step - accuracy: 0.9171 - loss: 0.3020 - val_accuracy: 0.9240 - val_loss: 0.2756\n",
            "Epoch 10/10\n",
            "\u001b[1m24/24\u001b[0m \u001b[32m━━━━━━━━━━━━━━━━━━━━\u001b[0m\u001b[37m\u001b[0m \u001b[1m3s\u001b[0m 53ms/step - accuracy: 0.9202 - loss: 0.2848 - val_accuracy: 0.9280 - val_loss: 0.2608\n"
          ]
        }
      ]
    },
    {
      "cell_type": "code",
      "source": [
        "print(mod)"
      ],
      "metadata": {
        "colab": {
          "base_uri": "https://localhost:8080/"
        },
        "id": "A_ODaNjoBuXV",
        "outputId": "ddeb90dd-4ef8-4eeb-d288-cb0b592506ca"
      },
      "execution_count": 12,
      "outputs": [
        {
          "output_type": "stream",
          "name": "stdout",
          "text": [
            "<keras.src.callbacks.history.History object at 0x7f729b7771d0>\n"
          ]
        }
      ]
    },
    {
      "cell_type": "code",
      "source": [
        "result=model.evaluate(x_test, y_test,verbose=0)\n",
        "print(result)"
      ],
      "metadata": {
        "colab": {
          "base_uri": "https://localhost:8080/"
        },
        "id": "2a0y3yvKB1tc",
        "outputId": "17eeb22d-2347-43d9-b131-bef3a4ff077d"
      },
      "execution_count": 13,
      "outputs": [
        {
          "output_type": "stream",
          "name": "stdout",
          "text": [
            "[0.2667544186115265, 0.9243000149726868]\n"
          ]
        }
      ]
    },
    {
      "cell_type": "code",
      "source": [],
      "metadata": {
        "id": "3uku94L1B_tR"
      },
      "execution_count": null,
      "outputs": []
    }
  ]
}